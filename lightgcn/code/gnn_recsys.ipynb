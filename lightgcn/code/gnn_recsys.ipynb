{
 "cells": [
  {
   "cell_type": "code",
   "execution_count": 1,
   "id": "586df2d1-3c6d-4498-9903-f4105769019d",
   "metadata": {},
   "outputs": [
    {
     "name": "stdout",
     "output_type": "stream",
     "text": [
      "\u001b[0;30;43mCpp extension not loaded\u001b[0m\n",
      "\u001b[0;30;43mloading [../data/movielens]\u001b[0m\n",
      "80000 interactions for training\n",
      "20000 interactions for testing\n",
      "movielens Sparsity : 0.06304669364224533\n",
      "movielens is ready to go\n",
      "===========config================\n",
      "{'A_n_fold': 100,\n",
      " 'A_split': False,\n",
      " 'batch_size': 4096,\n",
      " 'bigdata': False,\n",
      " 'bpr_batch_size': 2048,\n",
      " 'decay': 0.0001,\n",
      " 'dropout': 0,\n",
      " 'keep_prob': 0.6,\n",
      " 'latent_dim_rec': 64,\n",
      " 'lightGCN_n_layers': 3,\n",
      " 'lr': 0.001,\n",
      " 'multicore': 0,\n",
      " 'pretrain': 0,\n",
      " 'test_u_batch_size': 92}\n",
      "cores for test: 8\n",
      "comment: lgn\n",
      "tensorboard: 0\n",
      "LOAD: 0\n",
      "Weight path: ./checkpoints\n",
      "Test Topks: [20]\n",
      "using bpr loss\n",
      "===========end===================\n",
      "\u001b[0;30;43muse NORMAL distribution initilizer\u001b[0m\n",
      "loading adjacency matrix\n",
      "successfully loaded...\n",
      "don't split the matrix\n",
      "lgn is already to go(dropout:0)\n"
     ]
    }
   ],
   "source": [
    "import register, world\n",
    "from register import dataset\n",
    "import utils\n",
    "import torch\n",
    "\n",
    "Recmodel = register.MODELS[world.model_name](world.config, dataset)\n",
    "Recmodel = Recmodel.to(world.device)"
   ]
  },
  {
   "cell_type": "markdown",
   "id": "382fc599-7086-43c6-8a62-2977f054b8b1",
   "metadata": {},
   "source": [
    "## load modelallPos"
   ]
  },
  {
   "cell_type": "code",
   "execution_count": 2,
   "id": "af7ccaac-41e5-44cc-95db-2c90df77a4a2",
   "metadata": {},
   "outputs": [
    {
     "name": "stdout",
     "output_type": "stream",
     "text": [
      "\u001b[0;30;43mloaded model weights from /home/baron/HW/gnn_recsy/lightgcn/code/checkpoints/lgn-movielens-3-64.pth.tar\u001b[0m\n"
     ]
    }
   ],
   "source": [
    "weight_file = utils.getFileName()\n",
    "Recmodel.load_state_dict(torch.load(weight_file,map_location=torch.device('cpu')))\n",
    "world.cprint(f\"loaded model weights from {weight_file}\")"
   ]
  },
  {
   "cell_type": "code",
   "execution_count": 40,
   "id": "9a6dc19e-9d95-4380-b407-8ec805709032",
   "metadata": {},
   "outputs": [
    {
     "name": "stdout",
     "output_type": "stream",
     "text": [
      "{'precision': array([0.24185545]), 'recall': array([0.33216974]), 'ndcg': array([0.37047365])}\n"
     ]
    }
   ],
   "source": [
    "import Procedure\n",
    "_ = Procedure.Test(dataset, Recmodel, 0,  world.config['multicore'])"
   ]
  },
  {
   "cell_type": "markdown",
   "id": "c08534a5-c2b4-4761-a203-6bc20906e7d5",
   "metadata": {},
   "source": [
    "## 1. Vistualize weak user-item pair"
   ]
  },
  {
   "cell_type": "code",
   "execution_count": 4,
   "id": "ec1c4864-3049-46be-abae-df6478b0f42e",
   "metadata": {},
   "outputs": [
    {
     "name": "stdout",
     "output_type": "stream",
     "text": [
      "max count: 643\n",
      "min count: 5\n"
     ]
    },
    {
     "data": {
      "image/png": "[encoded data removed]",
      "text/plain": [
       "<Figure size 1440x576 with 1 Axes>"
      ]
     },
     "metadata": {
      "needs_background": "light"
     },
     "output_type": "display_data"
    }
   ],
   "source": [
    "import matplotlib.pyplot as plt\n",
    "import pandas as pd\n",
    "import seaborn as sns\n",
    "\n",
    "train_count = dict() \n",
    "for i in range(len(dataset.allPos)):\n",
    "    train_count[i] = len(dataset.allPos[i])\n",
    "\n",
    "print('max count: {}'.format(max(list(train_count.values()))))\n",
    "print('min count: {}'.format(min(list(train_count.values()))))\n",
    "df = pd.DataFrame({'user':range(len(train_count)), 'count':list(train_count.values())})\n",
    "plt.figure(figsize=(20,8))\n",
    "ax = sns.barplot(x=\"user\", y=\"count\", data=df, palette='mako')\n",
    "step_xticks = range(0, len(train_count), 100)\n",
    "_, ax = plt.xticks(step_xticks, step_xticks)"
   ]
  },
  {
   "cell_type": "code",
   "execution_count": 144,
   "id": "7f625ccc-96c5-4026-a7af-3ec2760225f3",
   "metadata": {},
   "outputs": [
    {
     "name": "stdout",
     "output_type": "stream",
     "text": [
      "0.25    25.0\n",
      "0.50    51.0\n",
      "Name: count, dtype: float64\n"
     ]
    },
    {
     "data": {
      "text/plain": [
       "<matplotlib.axes._subplots.AxesSubplot at 0x7ff76f0c26d0>"
      ]
     },
     "execution_count": 144,
     "metadata": {},
     "output_type": "execute_result"
    },
    {
     "data": {
      "image/png": "[encoded data removed]",
      "text/plain": [
       "<Figure size 864x288 with 1 Axes>"
      ]
     },
     "metadata": {
      "needs_background": "light"
     },
     "output_type": "display_data"
    }
   ],
   "source": [
    "print(df['count'].quantile([.25, .5]))\n",
    "plt.figure(figsize=(12,4))\n",
    "sns.boxplot(df['count'], palette=\"Set3\")"
   ]
  },
  {
   "cell_type": "code",
   "execution_count": 29,
   "id": "ac0ab62d-efb1-4bd9-a827-9af4247c70f8",
   "metadata": {},
   "outputs": [
    {
     "data": {
      "text/plain": [
       "torch.Size([927, 20])"
      ]
     },
     "execution_count": 29,
     "metadata": {},
     "output_type": "execute_result"
    }
   ],
   "source": [
    "testDict:dict= dataset.testDict\n",
    "users = list(testDict.keys())\n",
    "allPos = dataset.getUserPosItems(users)\n",
    "groundTrue = [testDict[u] for u in users]\n",
    "batch_users_gpu = torch.Tensor(users).long()\n",
    "batch_users_gpu = batch_users_gpu.to(world.device)\n",
    "rating = Recmodel.getUsersRating(batch_users_gpu)\n",
    "\n",
    "exclude_index = []\n",
    "exclude_items = []\n",
    "for range_i, items in enumerate(allPos):\n",
    "    exclude_index.extend([range_i] * len(items))\n",
    "    exclude_items.extend(items)\n",
    "rating[exclude_index, exclude_items] = -(1<<10)\n",
    "\n",
    "_, rating_K = torch.topk(rating, k=20)\n",
    "del rating\n",
    "rating_K.cpu()\n",
    "rating_K.shape"
   ]
  },
  {
   "cell_type": "code",
   "execution_count": 30,
   "id": "9e8db25d-cebf-4525-9974-5ac0909bc783",
   "metadata": {},
   "outputs": [],
   "source": [
    "r = utils.getLabel(groundTrue, rating_K.numpy())"
   ]
  },
  {
   "cell_type": "code",
   "execution_count": 127,
   "id": "3d20d68e-9f91-4e21-a55f-efe70b54525d",
   "metadata": {},
   "outputs": [
    {
     "data": {
      "text/html": [
       "<div>\n",
       "<style scoped>\n",
       "    .dataframe tbody tr th:only-of-type {\n",
       "        vertical-align: middle;\n",
       "    }\n",
       "\n",
       "    .dataframe tbody tr th {\n",
       "        vertical-align: top;\n",
       "    }\n",
       "\n",
       "    .dataframe thead th {\n",
       "        text-align: right;\n",
       "    }\n",
       "</style>\n",
       "<table border=\"1\" class=\"dataframe\">\n",
       "  <thead>\n",
       "    <tr style=\"text-align: right;\">\n",
       "      <th></th>\n",
       "      <th>user</th>\n",
       "      <th>count</th>\n",
       "      <th>pres</th>\n",
       "      <th>precision</th>\n",
       "    </tr>\n",
       "  </thead>\n",
       "  <tbody>\n",
       "    <tr>\n",
       "      <th>0</th>\n",
       "      <td>0</td>\n",
       "      <td>251</td>\n",
       "      <td>0.20</td>\n",
       "      <td>0.20</td>\n",
       "    </tr>\n",
       "    <tr>\n",
       "      <th>1</th>\n",
       "      <td>1</td>\n",
       "      <td>58</td>\n",
       "      <td>0.15</td>\n",
       "      <td>0.15</td>\n",
       "    </tr>\n",
       "    <tr>\n",
       "      <th>2</th>\n",
       "      <td>2</td>\n",
       "      <td>51</td>\n",
       "      <td>0.10</td>\n",
       "      <td>0.10</td>\n",
       "    </tr>\n",
       "    <tr>\n",
       "      <th>3</th>\n",
       "      <td>3</td>\n",
       "      <td>22</td>\n",
       "      <td>0.05</td>\n",
       "      <td>0.05</td>\n",
       "    </tr>\n",
       "    <tr>\n",
       "      <th>4</th>\n",
       "      <td>4</td>\n",
       "      <td>163</td>\n",
       "      <td>0.05</td>\n",
       "      <td>0.05</td>\n",
       "    </tr>\n",
       "    <tr>\n",
       "      <th>5</th>\n",
       "      <td>5</td>\n",
       "      <td>198</td>\n",
       "      <td>0.25</td>\n",
       "      <td>0.25</td>\n",
       "    </tr>\n",
       "    <tr>\n",
       "      <th>6</th>\n",
       "      <td>6</td>\n",
       "      <td>380</td>\n",
       "      <td>0.45</td>\n",
       "      <td>0.45</td>\n",
       "    </tr>\n",
       "    <tr>\n",
       "      <th>7</th>\n",
       "      <td>7</td>\n",
       "      <td>55</td>\n",
       "      <td>0.05</td>\n",
       "      <td>0.05</td>\n",
       "    </tr>\n",
       "    <tr>\n",
       "      <th>8</th>\n",
       "      <td>8</td>\n",
       "      <td>20</td>\n",
       "      <td>0.00</td>\n",
       "      <td>0.00</td>\n",
       "    </tr>\n",
       "    <tr>\n",
       "      <th>9</th>\n",
       "      <td>9</td>\n",
       "      <td>166</td>\n",
       "      <td>0.15</td>\n",
       "      <td>0.15</td>\n",
       "    </tr>\n",
       "  </tbody>\n",
       "</table>\n",
       "</div>"
      ],
      "text/plain": [
       "   user  count  pres  precision\n",
       "0     0    251  0.20       0.20\n",
       "1     1     58  0.15       0.15\n",
       "2     2     51  0.10       0.10\n",
       "3     3     22  0.05       0.05\n",
       "4     4    163  0.05       0.05\n",
       "5     5    198  0.25       0.25\n",
       "6     6    380  0.45       0.45\n",
       "7     7     55  0.05       0.05\n",
       "8     8     20  0.00       0.00\n",
       "9     9    166  0.15       0.15"
      ]
     },
     "execution_count": 127,
     "metadata": {},
     "output_type": "execute_result"
    }
   ],
   "source": [
    "pression = r.sum(1)/20\n",
    "all_pression = {i:None for i in range(len(dataset.allPos))}\n",
    "for i, u in enumerate(users):\n",
    "    all_pression[u] = pression[i]\n",
    "df['precision'] = all_pression.values()\n",
    "df.head(10)"
   ]
  },
  {
   "cell_type": "code",
   "execution_count": 128,
   "id": "07672e0b-9a1f-43df-ab55-c2ca12fc64f8",
   "metadata": {},
   "outputs": [
    {
     "name": "stderr",
     "output_type": "stream",
     "text": [
      "/home/baron/.local/lib/python3.8/site-packages/pandas/util/_decorators.py:311: SettingWithCopyWarning: \n",
      "A value is trying to be set on a copy of a slice from a DataFrame\n",
      "\n",
      "See the caveats in the documentation: https://pandas.pydata.org/pandas-docs/stable/user_guide/indexing.html#returning-a-view-versus-a-copy\n",
      "  return func(*args, **kwargs)\n",
      "/tmp/ipykernel_3632515/2162892039.py:4: SettingWithCopyWarning: \n",
      "A value is trying to be set on a copy of a slice from a DataFrame.\n",
      "Try using .loc[row_indexer,col_indexer] = value instead\n",
      "\n",
      "See the caveats in the documentation: https://pandas.pydata.org/pandas-docs/stable/user_guide/indexing.html#returning-a-view-versus-a-copy\n",
      "  test_df['group'] = group\n",
      "/tmp/ipykernel_3632515/2162892039.py:6: SettingWithCopyWarning: \n",
      "A value is trying to be set on a copy of a slice from a DataFrame.\n",
      "Try using .loc[row_indexer,col_indexer] = value instead\n",
      "\n",
      "See the caveats in the documentation: https://pandas.pydata.org/pandas-docs/stable/user_guide/indexing.html#returning-a-view-versus-a-copy\n",
      "  test_df['index1'] = test_df.index\n"
     ]
    },
    {
     "data": {
      "text/html": [
       "<div>\n",
       "<style scoped>\n",
       "    .dataframe tbody tr th:only-of-type {\n",
       "        vertical-align: middle;\n",
       "    }\n",
       "\n",
       "    .dataframe tbody tr th {\n",
       "        vertical-align: top;\n",
       "    }\n",
       "\n",
       "    .dataframe thead th {\n",
       "        text-align: right;\n",
       "    }\n",
       "</style>\n",
       "<table border=\"1\" class=\"dataframe\">\n",
       "  <thead>\n",
       "    <tr style=\"text-align: right;\">\n",
       "      <th></th>\n",
       "      <th>user</th>\n",
       "      <th>count</th>\n",
       "      <th>pres</th>\n",
       "      <th>precision</th>\n",
       "      <th>group</th>\n",
       "      <th>index1</th>\n",
       "    </tr>\n",
       "  </thead>\n",
       "  <tbody>\n",
       "    <tr>\n",
       "      <th>0</th>\n",
       "      <td>404</td>\n",
       "      <td>643</td>\n",
       "      <td>0.85</td>\n",
       "      <td>0.85</td>\n",
       "      <td>0</td>\n",
       "      <td>0</td>\n",
       "    </tr>\n",
       "    <tr>\n",
       "      <th>1</th>\n",
       "      <td>12</td>\n",
       "      <td>585</td>\n",
       "      <td>0.40</td>\n",
       "      <td>0.40</td>\n",
       "      <td>0</td>\n",
       "      <td>1</td>\n",
       "    </tr>\n",
       "    <tr>\n",
       "      <th>2</th>\n",
       "      <td>654</td>\n",
       "      <td>523</td>\n",
       "      <td>0.75</td>\n",
       "      <td>0.75</td>\n",
       "      <td>0</td>\n",
       "      <td>2</td>\n",
       "    </tr>\n",
       "    <tr>\n",
       "      <th>3</th>\n",
       "      <td>449</td>\n",
       "      <td>483</td>\n",
       "      <td>0.65</td>\n",
       "      <td>0.65</td>\n",
       "      <td>0</td>\n",
       "      <td>3</td>\n",
       "    </tr>\n",
       "    <tr>\n",
       "      <th>4</th>\n",
       "      <td>275</td>\n",
       "      <td>479</td>\n",
       "      <td>0.45</td>\n",
       "      <td>0.45</td>\n",
       "      <td>0</td>\n",
       "      <td>4</td>\n",
       "    </tr>\n",
       "    <tr>\n",
       "      <th>...</th>\n",
       "      <td>...</td>\n",
       "      <td>...</td>\n",
       "      <td>...</td>\n",
       "      <td>...</td>\n",
       "      <td>...</td>\n",
       "      <td>...</td>\n",
       "    </tr>\n",
       "    <tr>\n",
       "      <th>922</th>\n",
       "      <td>875</td>\n",
       "      <td>8</td>\n",
       "      <td>0.15</td>\n",
       "      <td>0.15</td>\n",
       "      <td>9</td>\n",
       "      <td>922</td>\n",
       "    </tr>\n",
       "    <tr>\n",
       "      <th>923</th>\n",
       "      <td>916</td>\n",
       "      <td>7</td>\n",
       "      <td>0.25</td>\n",
       "      <td>0.25</td>\n",
       "      <td>9</td>\n",
       "      <td>923</td>\n",
       "    </tr>\n",
       "    <tr>\n",
       "      <th>924</th>\n",
       "      <td>940</td>\n",
       "      <td>7</td>\n",
       "      <td>0.20</td>\n",
       "      <td>0.20</td>\n",
       "      <td>9</td>\n",
       "      <td>924</td>\n",
       "    </tr>\n",
       "    <tr>\n",
       "      <th>925</th>\n",
       "      <td>894</td>\n",
       "      <td>6</td>\n",
       "      <td>0.20</td>\n",
       "      <td>0.20</td>\n",
       "      <td>9</td>\n",
       "      <td>925</td>\n",
       "    </tr>\n",
       "    <tr>\n",
       "      <th>926</th>\n",
       "      <td>872</td>\n",
       "      <td>5</td>\n",
       "      <td>0.30</td>\n",
       "      <td>0.30</td>\n",
       "      <td>9</td>\n",
       "      <td>926</td>\n",
       "    </tr>\n",
       "  </tbody>\n",
       "</table>\n",
       "<p>927 rows × 6 columns</p>\n",
       "</div>"
      ],
      "text/plain": [
       "     user  count  pres  precision  group  index1\n",
       "0     404    643  0.85       0.85      0       0\n",
       "1      12    585  0.40       0.40      0       1\n",
       "2     654    523  0.75       0.75      0       2\n",
       "3     449    483  0.65       0.65      0       3\n",
       "4     275    479  0.45       0.45      0       4\n",
       "..    ...    ...   ...        ...    ...     ...\n",
       "922   875      8  0.15       0.15      9     922\n",
       "923   916      7  0.25       0.25      9     923\n",
       "924   940      7  0.20       0.20      9     924\n",
       "925   894      6  0.20       0.20      9     925\n",
       "926   872      5  0.30       0.30      9     926\n",
       "\n",
       "[927 rows x 6 columns]"
      ]
     },
     "execution_count": 128,
     "metadata": {},
     "output_type": "execute_result"
    }
   ],
   "source": [
    "test_df = df.dropna()\n",
    "test_df.sort_values(by='count', inplace=True)\n",
    "group = [9-i//100 for i in range(len(test_df))]\n",
    "test_df['group'] = group\n",
    "test_df.sort_values(by='count',ascending=False, inplace=True, ignore_index=True)\n",
    "test_df['index1'] = test_df.index\n",
    "test_df"
   ]
  },
  {
   "cell_type": "code",
   "execution_count": 138,
   "id": "0e17af60-3719-4fa1-aa3c-d186aa39beef",
   "metadata": {},
   "outputs": [
    {
     "data": {
      "image/png": "[encoded data removed]",
      "text/plain": [
       "<Figure size 1440x432 with 1 Axes>"
      ]
     },
     "metadata": {
      "needs_background": "light"
     },
     "output_type": "display_data"
    }
   ],
   "source": [
    "fig, ax1 = plt.subplots(figsize=(20,6))\n",
    "# sns.lineplot(data = test_df['pres'], sort = False, ax=ax1)\n",
    "# ax2 = ax1.twinx()\n",
    "sns.barplot(x=\"index1\", y=\"count\", data=test_df, palette='mako', ax=ax1)\n",
    "step_xticks = range(0, len(train_count), 100)\n",
    "_, ax = plt.xticks(step_xticks, step_xticks)"
   ]
  },
  {
   "cell_type": "code",
   "execution_count": null,
   "id": "49f51cc1-d7be-46d1-bfb8-9d65229376aa",
   "metadata": {},
   "outputs": [
    {
     "data": {
      "image/png": "[encoded data removed]",
      "text/plain": [
       "<Figure size 1440x432 with 1 Axes>"
      ]
     },
     "metadata": {
      "needs_background": "light"
     },
     "output_type": "display_data"
    }
   ],
   "source": [
    "fig, ax1 = plt.subplots(figsize=(20,6))\n",
    "m_df = test_df.groupby(['group']).mean()\n",
    "sns.lineplot(data=m_df['precision'])\n",
    "_, ax = plt.xticks([i for i in range(len(m_df))], step_xticks)"
   ]
  }
 ],
 "metadata": {
  "kernelspec": {
   "display_name": "Python 3 (ipykernel)",
   "language": "python",
   "name": "python3"
  },
  "language_info": {
   "codemirror_mode": {
    "name": "ipython",
    "version": 3
   },
   "file_extension": ".py",
   "mimetype": "text/x-python",
   "name": "python",
   "nbconvert_exporter": "python",
   "pygments_lexer": "ipython3",
   "version": "3.8.10"
  }
 },
 "nbformat": 4,
 "nbformat_minor": 5
}
