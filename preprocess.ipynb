{
 "cells": [
  {
   "cell_type": "code",
   "execution_count": 1,
   "id": "da3a69ba-ec8f-4d08-a60d-29a4729a6563",
   "metadata": {},
   "outputs": [],
   "source": [
    "from sklearn.utils import shuffle\n",
    "\n",
    "def read_dat(file_path):\n",
    "    lines = list()\n",
    "    for line in open(file_path, 'r'):\n",
    "        line = line.replace('\\n', '')\n",
    "        line = line.split('\\t')\n",
    "        lines.append(line)\n",
    "\n",
    "    return lines"
   ]
  },
  {
   "cell_type": "code",
   "execution_count": 2,
   "id": "7cc9fae6-f70b-49d2-8adf-40588d2a54c7",
   "metadata": {},
   "outputs": [],
   "source": [
    "def save_txt(data, file_name):\n",
    "    out_dict = {}\n",
    "    for u, i in data:\n",
    "        # u = int(user)\n",
    "        # i = int(item)\n",
    "        if out_dict.get(u):\n",
    "            out_dict[u].append(i)\n",
    "        else:\n",
    "            out_dict[u] = [i]\n",
    "\n",
    "    out = []\n",
    "    for key in out_dict.keys():\n",
    "        out.append(out_dict[key])\n",
    "        out[-1].insert(0, key)\n",
    "        \n",
    "    textfile = open(\"lightgcn/data/{}.txt\".format(file_name), \"w\")\n",
    "    for element in out:\n",
    "        s = ' '.join(element)\n",
    "        textfile.write(s + \"\\n\")\n",
    "    textfile.close()"
   ]
  },
  {
   "cell_type": "markdown",
   "id": "20bee313-3ada-43ac-ba2d-f010330fcb29",
   "metadata": {},
   "source": [
    "## MovieLens"
   ]
  },
  {
   "cell_type": "code",
   "execution_count": 29,
   "id": "0d7d0011-43a8-4eb5-8760-5d709909232c",
   "metadata": {},
   "outputs": [
    {
     "name": "stdout",
     "output_type": "stream",
     "text": [
      "(80000, 2) (20000, 2)\n"
     ]
    }
   ],
   "source": [
    "import numpy as np\n",
    "\n",
    "data = read_dat('../data/Movielens/user_movie.dat')\n",
    "data = np.array(data)\n",
    "training_data, testing_data = data[:80000, :2], data[80000:, :2]\n",
    "print(training_data.shape, testing_data.shape)"
   ]
  },
  {
   "cell_type": "code",
   "execution_count": 31,
   "id": "78810e8f-d64d-489c-958b-e37f3a037d26",
   "metadata": {},
   "outputs": [],
   "source": [
    "save_txt(training_data, \"train\")\n",
    "save_txt(testing_data, \"test\")"
   ]
  },
  {
   "cell_type": "markdown",
   "id": "bc7381f1-b282-45ff-9449-368af57e1415",
   "metadata": {},
   "source": [
    "## Yelp"
   ]
  },
  {
   "cell_type": "code",
   "execution_count": 61,
   "id": "a5a41962-f0db-4227-b8ab-a7dbdc7d0d4a",
   "metadata": {},
   "outputs": [
    {
     "name": "stdout",
     "output_type": "stream",
     "text": [
      "data count: 198397\n",
      "data count: 184835\n",
      "max/min user number: 7325/0\n",
      "max/min item number: 14126/0\n",
      "distint user number: 7326\n",
      "distint item number: 14127\n",
      "(147868, 2) (36967, 2)\n"
     ]
    }
   ],
   "source": [
    "import numpy as np\n",
    "import pandas as pd\n",
    "from sklearn.preprocessing import LabelEncoder\n",
    "\n",
    "data = read_dat('Yelp/user_business.dat')\n",
    "data = np.array(data)\n",
    "# remove item < 3 users\n",
    "df = pd.DataFrame(columns=['u', 'i', 'rating'], data=data)\n",
    "print('data count: {}'.format(len(df)))\n",
    "value_counts = df['u'].value_counts()\n",
    "to_remove = value_counts[value_counts <= 3].index\n",
    "df['u'].replace(to_remove, np.nan, inplace=True)\n",
    "\n",
    "df = df.dropna()\n",
    "print('data count: {}'.format(len(df)))\n",
    "userencoder = LabelEncoder() \n",
    "itemencoder = LabelEncoder() \n",
    "df['u'] = userencoder.fit_transform(df['u'])\n",
    "df['i'] = itemencoder.fit_transform(df['i'])\n",
    "print(\"max/min user number: {}/{}\\nmax/min item number: {}/{}\".format(df['u'].max(), df['u'].min(), df['i'].max(), df['i'].min()))\n",
    "print(\"distint user number: {}\\ndistint item number: {}\".format(df['u'].nunique(),  df['i'].nunique()))\n",
    "df['u'] = df['u'].astype(str)\n",
    "df['i'] = df['i'].astype(str)\n",
    "\n",
    "data = df.to_numpy()\n",
    "data = shuffle(data)\n",
    "cut = int(len(data) * 0.8)\n",
    "training_data, testing_data = data[:cut, :2], data[cut:, :2]\n",
    "print(training_data.shape, testing_data.shape)"
   ]
  },
  {
   "cell_type": "code",
   "execution_count": 62,
   "id": "ab2d2261-9b69-4088-9ac3-1649263ce71d",
   "metadata": {},
   "outputs": [
    {
     "name": "stdout",
     "output_type": "stream",
     "text": [
      "training max/min user number: 7325/0\n",
      "training max/min item number: 14126/0\n",
      "training distint user number: 7326\n",
      "training distint item number: 13552\n"
     ]
    }
   ],
   "source": [
    "max_user, min_user, max_item, min_item = 0, 999, 0, 999\n",
    "dis_user_list, dis_item_list = [], []\n",
    "for u, i in training_data:\n",
    "    u = int(u)\n",
    "    i = int(i)\n",
    "    if u > max_user:\n",
    "        max_user = u\n",
    "    if u < min_user:\n",
    "        min_user = u\n",
    "    if i > max_item:\n",
    "        max_item = i\n",
    "    if i < min_item:\n",
    "        min_item = i\n",
    "        \n",
    "    if u not in dis_user_list:\n",
    "        dis_user_list.append(u)\n",
    "    if i not in dis_item_list:\n",
    "        dis_item_list.append(i)\n",
    "\n",
    "print(\"training max/min user number: {}/{}\\ntraining max/min item number: {}/{}\".format(max_user, min_user, max_item, min_item))\n",
    "print(\"training distint user number: {}\\ntraining distint item number: {}\".format(len(dis_user_list), len(dis_item_list)))"
   ]
  },
  {
   "cell_type": "code",
   "execution_count": 63,
   "id": "4628cefa-aa1b-4b50-82d0-412afcbb2c3d",
   "metadata": {},
   "outputs": [],
   "source": [
    "save_txt(training_data, \"yelp/train\")\n",
    "save_txt(testing_data, \"yelp/test\")"
   ]
  },
  {
   "cell_type": "markdown",
   "id": "0ad8a729-6130-4e81-ba50-114c0e16acf1",
   "metadata": {},
   "source": [
    "## Douban"
   ]
  },
  {
   "cell_type": "code",
   "execution_count": 58,
   "id": "317ba0a7-936c-46c7-8610-57d4a6f61abf",
   "metadata": {},
   "outputs": [
    {
     "name": "stdout",
     "output_type": "stream",
     "text": [
      "data count: 792062\n",
      "data count: 788898\n",
      "max/min user number: 11265/0\n",
      "max/min item number: 22346/0\n",
      "distint user number: 11266\n",
      "distint item number: 22347\n",
      "(631118, 2) (157780, 2)\n"
     ]
    }
   ],
   "source": [
    "import numpy as np\n",
    "\n",
    "data = read_dat('Douban/user_book.dat')\n",
    "data = np.array(data)\n",
    "# remove item < 3 users\n",
    "df = pd.DataFrame(columns=['u', 'i', 'rating'], data=data)\n",
    "print('data count: {}'.format(len(df)))\n",
    "value_counts = df['u'].value_counts()\n",
    "to_remove = value_counts[value_counts <= 3].index\n",
    "df['u'].replace(to_remove, np.nan, inplace=True)\n",
    "\n",
    "df = df.dropna()\n",
    "print('data count: {}'.format(len(df)))\n",
    "userencoder = LabelEncoder() \n",
    "itemencoder = LabelEncoder() \n",
    "df['u'] = userencoder.fit_transform(df['u'])\n",
    "df['i'] = itemencoder.fit_transform(df['i'])\n",
    "print(\"max/min user number: {}/{}\\nmax/min item number: {}/{}\".format(df['u'].max(), df['u'].min(), df['i'].max(), df['i'].min()))\n",
    "print(\"distint user number: {}\\ndistint item number: {}\".format(df['u'].nunique(),  df['i'].nunique()))\n",
    "df['u'] = df['u'].astype(str)\n",
    "df['i'] = df['i'].astype(str)\n",
    "\n",
    "data = df.to_numpy()\n",
    "data = shuffle(data)\n",
    "cut = int(len(data) * 0.8)\n",
    "training_data, testing_data = data[:cut, :2], data[cut:, :2]\n",
    "print(training_data.shape, testing_data.shape)"
   ]
  },
  {
   "cell_type": "code",
   "execution_count": 60,
   "id": "37534c4a-cab0-4ccc-b9ef-6c1a0cc6ea78",
   "metadata": {},
   "outputs": [
    {
     "name": "stdout",
     "output_type": "stream",
     "text": [
      "training max/min user number: 11265/0\n",
      "training max/min item number: 22346/0\n",
      "training distint user number: 11266\n",
      "training distint item number: 22347\n"
     ]
    }
   ],
   "source": [
    "max_user, min_user, max_item, min_item = 0, 999, 0, 999\n",
    "dis_user_list, dis_item_list = [], []\n",
    "for u, i in training_data:\n",
    "    u = int(u)\n",
    "    i = int(i)\n",
    "    if u > max_user:\n",
    "        max_user = u\n",
    "    if u < min_user:\n",
    "        min_user = u\n",
    "    if i > max_item:\n",
    "        max_item = i\n",
    "    if i < min_item:\n",
    "        min_item = i\n",
    "        \n",
    "    if u not in dis_user_list:\n",
    "        dis_user_list.append(u)\n",
    "    if i not in dis_item_list:\n",
    "        dis_item_list.append(i)\n",
    "\n",
    "print(\"training max/min user number: {}/{}\\ntraining max/min item number: {}/{}\".format(max_user, min_user, max_item, min_item))\n",
    "print(\"training distint user number: {}\\ntraining distint item number: {}\".format(len(dis_user_list), len(dis_item_list)))"
   ]
  },
  {
   "cell_type": "code",
   "execution_count": 59,
   "id": "a4a67243-099a-43bc-b8c0-56843a7da4c8",
   "metadata": {},
   "outputs": [],
   "source": [
    "save_txt(training_data, \"douban/train\")\n",
    "save_txt(testing_data, \"douban/test\")"
   ]
  },
  {
   "cell_type": "code",
   "execution_count": null,
   "id": "b4f695fe-c65d-466a-836d-9ef82970facb",
   "metadata": {},
   "outputs": [],
   "source": []
  }
 ],
 "metadata": {
  "kernelspec": {
   "display_name": "Python 3 (ipykernel)",
   "language": "python",
   "name": "python3"
  },
  "language_info": {
   "codemirror_mode": {
    "name": "ipython",
    "version": 3
   },
   "file_extension": ".py",
   "mimetype": "text/x-python",
   "name": "python",
   "nbconvert_exporter": "python",
   "pygments_lexer": "ipython3",
   "version": "3.8.10"
  }
 },
 "nbformat": 4,
 "nbformat_minor": 5
}
